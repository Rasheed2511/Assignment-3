{
 "cells": [
  {
   "cell_type": "code",
   "execution_count": 7,
   "id": "8af078df",
   "metadata": {},
   "outputs": [
    {
     "name": "stdout",
     "output_type": "stream",
     "text": [
      "Twinkle, twinkle little star,\n",
      "\tHow I wonder what you are!\n",
      "\t\tup above world so high,\n",
      "\t\tlike a diamond in the sky.\n",
      "\tTwinke,twinke, little star,\n",
      "\t\tHow i wonder what you are\n"
     ]
    }
   ],
   "source": [
    "#1 Write a Python program to print the following string in a specific format (see the output).\n",
    "a = (\"Twinkle, twinkle little star,\\n\\tHow I wonder what you are!\\n\\t\\tup above world so high,\\n\\t\\tlike a diamond in the sky.\\n\\tTwinke,twinke, little star,\\n\\t\\tHow i wonder what you are\")\n",
    "print(a)"
   ]
  },
  {
   "cell_type": "code",
   "execution_count": 8,
   "id": "94243692",
   "metadata": {},
   "outputs": [
    {
     "name": "stdout",
     "output_type": "stream",
     "text": [
      "Python Version\n",
      "3.8.8 (default, Apr 13 2021, 15:08:03) [MSC v.1916 64 bit (AMD64)]\n"
     ]
    }
   ],
   "source": [
    "#2. Write a Python program to get the Python version you are using\n",
    "import sys\n",
    "print(\"Python Version\")\n",
    "print(sys.version)"
   ]
  },
  {
   "cell_type": "code",
   "execution_count": 11,
   "id": "8b292aa8",
   "metadata": {},
   "outputs": [
    {
     "name": "stdout",
     "output_type": "stream",
     "text": [
      "Current date and time: \n",
      "2021-10-24 04:36:35\n"
     ]
    }
   ],
   "source": [
    "#3. Write a Python program to display the current date and time.\n",
    "import datetime\n",
    "now = datetime.datetime.now()\n",
    "print(\"Current date and time: \")\n",
    "print (now.strftime(\"%Y-%m-%d %H:%M:%S\"))"
   ]
  },
  {
   "cell_type": "code",
   "execution_count": 24,
   "id": "de1f2ff5",
   "metadata": {},
   "outputs": [
    {
     "name": "stdout",
     "output_type": "stream",
     "text": [
      "Enter the radius of a circle1\n",
      "The radius of a circle is 1.0 of area 3.14\n"
     ]
    }
   ],
   "source": [
    "#4Write a Python program which accepts the radius of a circle from the user and compute the area.\n",
    "r = float(int(input(\"Enter the radius of a circle\")))\n",
    "area =  3.14 \n",
    "print(f\"The radius of a circle is {r} of area {area}\")"
   ]
  },
  {
   "cell_type": "code",
   "execution_count": null,
   "id": "a7530ea7",
   "metadata": {},
   "outputs": [],
   "source": [
    "#5 Write a Python program which accepts the user's first and last name and print them in reverse order with a space between them.\n",
    "first_name = input(\"Enter your first name \")\n",
    "last_name = input(\"Enter your last name \")\n",
    "full_name = (last_name + \" \" + first_name)\n",
    "print(full_name)"
   ]
  },
  {
   "cell_type": "code",
   "execution_count": 12,
   "id": "f244c68b",
   "metadata": {},
   "outputs": [
    {
     "name": "stdout",
     "output_type": "stream",
     "text": [
      "Enter the value for addition 45\n",
      "Enter the value for addition 55\n",
      "100\n"
     ]
    }
   ],
   "source": [
    "#6. Write a python program which takes two inputs from user and print them addition\n",
    "\n",
    "add = int(input(\"Enter the value for addition \")) + int(input(\"Enter the value for addition \"))\n",
    "print(add)"
   ]
  },
  {
   "cell_type": "code",
   "execution_count": 10,
   "id": "d3c814eb",
   "metadata": {},
   "outputs": [
    {
     "name": "stdout",
     "output_type": "stream",
     "text": [
      "Enter the value 2\n",
      "this is an even number\n"
     ]
    }
   ],
   "source": [
    "#8. Write a program which take input from user and identify that the given number is evenor odd?\n",
    "\n",
    "operator = int(input(\"Enter the value \"))\n",
    "mod = operator % 2\n",
    "if mod > 0:\n",
    "    print(\"this is an odd num\")\n",
    "else:\n",
    "    print(\"this is an even number\")\n"
   ]
  },
  {
   "cell_type": "code",
   "execution_count": 1,
   "id": "7b536be2",
   "metadata": {},
   "outputs": [
    {
     "name": "stdout",
     "output_type": "stream",
     "text": [
      "Enter your English marks 45\n",
      "Enter your Maths marks 45\n",
      "Enter your Isl marks 88\n",
      "Enter your Sci marks 98\n",
      "Enter your Socio marks 82\n",
      "Grade A+\n"
     ]
    }
   ],
   "source": [
    "#7. Write a program which takes 5 inputs from user for different subject’s marks, total it and generate mark sheet using grades ?\n",
    "Eng = int(input(\"Enter your English marks \"));\n",
    "Maths = int(input(\"Enter your Maths marks \"));\n",
    "Isl = int(input(\"Enter your Isl marks \"));\n",
    "Sci = int(input(\"Enter your Sci marks \"));\n",
    "Socio = int(input(\"Enter your Socio marks \"));\n",
    "total = 500;\n",
    "per = (Eng + Maths + Isl + Sci + Socio) / total * 100 \n",
    "per = total / 500 * 100 \n",
    "if per <= 100 and per > 80:\n",
    "    print(\"Grade A+\");\n",
    "elif per <= 69 and per < 80:\n",
    "    print(\"Grade B\");\n",
    "elif per <= 50 and per < 69:\n",
    "    print(\"Grade C\");\n",
    "elif per <= 40 and per < 59:\n",
    "    print(\"Grade D\");\n",
    "elif per <= 33 and per < 0:\n",
    "    print(\"Fail\")\n",
    "else:\n",
    "    print(\"You didnt write answer\")"
   ]
  },
  {
   "cell_type": "code",
   "execution_count": 12,
   "id": "2e4bed8e",
   "metadata": {},
   "outputs": [
    {
     "name": "stdout",
     "output_type": "stream",
     "text": [
      "[378]\n"
     ]
    }
   ],
   "source": [
    "#10.Write a Python program to sum all the numeric items in a list?\n",
    "numeric = [55 + 62 + 77 + 65 + 99 + 20]\n",
    "print(numeric)"
   ]
  },
  {
   "cell_type": "code",
   "execution_count": 8,
   "id": "f672947b",
   "metadata": {},
   "outputs": [
    {
     "name": "stdout",
     "output_type": "stream",
     "text": [
      "5\n"
     ]
    }
   ],
   "source": [
    "#9. Write a program which print the length of the list?\n",
    "\n",
    "list = [\"Fahad\", \"Bashir\", \"Salman\", \"Rafay\", \"Bilal\"]\n",
    "lenght = len(list)\n",
    "print(lenght)"
   ]
  },
  {
   "cell_type": "code",
   "execution_count": 9,
   "id": "c11c2543",
   "metadata": {},
   "outputs": [
    {
     "name": "stdout",
     "output_type": "stream",
     "text": [
      "88\n"
     ]
    }
   ],
   "source": [
    "#11.Write a Python program to get the largest number from a numeric list.\n",
    "\n",
    "num = [\"7\",\"55\",\"23\",\"88\",\"61\"]\n",
    "largest = max(num)\n",
    "print(largest)"
   ]
  },
  {
   "cell_type": "code",
   "execution_count": 12,
   "id": "64a39632",
   "metadata": {},
   "outputs": [
    {
     "name": "stdout",
     "output_type": "stream",
     "text": [
      "1\n",
      "1\n",
      "2\n",
      "3\n"
     ]
    }
   ],
   "source": [
    "#12. Take a list, say for example this one:\n",
    "a = [1, 1, 2, 3, 5, 8, 13, 21, 34, 55, 89]\n",
    "for A in a:\n",
    "    if A < 5:\n",
    "        print(A)"
   ]
  },
  {
   "cell_type": "code",
   "execution_count": null,
   "id": "d473da8c",
   "metadata": {},
   "outputs": [],
   "source": []
  }
 ],
 "metadata": {
  "kernelspec": {
   "display_name": "Python 3",
   "language": "python",
   "name": "python3"
  },
  "language_info": {
   "codemirror_mode": {
    "name": "ipython",
    "version": 3
   },
   "file_extension": ".py",
   "mimetype": "text/x-python",
   "name": "python",
   "nbconvert_exporter": "python",
   "pygments_lexer": "ipython3",
   "version": "3.8.8"
  }
 },
 "nbformat": 4,
 "nbformat_minor": 5
}
